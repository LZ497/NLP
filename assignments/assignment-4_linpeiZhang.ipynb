{
 "cells": [
  {
   "cell_type": "markdown",
   "id": "7bfd3b9f-a737-49cb-8bcd-2d10d73e7330",
   "metadata": {},
   "source": [
    "# Assignment 4 (solutions): Attention\n",
    "\n",
    "### Due Date: Nov 22 (both sections)\n",
    "\n",
    "### Grade (100 pts, 10%)\n",
    "\n",
    "#### Your Name: Linpei Zhang\n",
    "\n",
    "#### Your EID: lz497\n",
    "\n",
    "*Note: This assignment covers material from the recording, notes, demo, and suggested readings from Lectures 5,8,9*\n",
    "\n",
    "---"
   ]
  },
  {
   "cell_type": "markdown",
   "id": "6109a8ab-5790-442a-a2aa-f0c950acfb87",
   "metadata": {
    "jp-MarkdownHeadingCollapsed": true,
    "tags": []
   },
   "source": [
    "### Problem introduction\n",
    "\n",
    "In this assignment we will explore the concept of attention using Word2Vec features. Recall that in lecture-05 we used the Word2Vec algorithm to compute feature representations of english words. For every center-word - context-word pair, ${\\textbf{x}_w, \\textbf{x}_c}$, in the training set, Word2Vec tries to maximize the inner product between their feature embeddings, $\\textbf{u}_w$ and $\\textbf{v}_c$, by first computing a vector of logits as $\\textbf{z} = \\textbf{u}_w \\cdot \\textbf{V}^T \\in \\mathbb{R}^N$, and then maximizing $p(\\textbf{x}_c | \\textbf{x}_w) = \\sigma_{softmax}(\\textbf{z})$ to learn $\\textbf{U}$ and $\\textbf{V}$ via MLE. \n",
    "\n",
    "Let's assume we are given a sequence of words:\n",
    "\n",
    "$$X = \\{ \\textbf{x}^{(1)}, \\textbf{x}^{(2)}, \\textbf{x}^{(3)}, \\textbf{x}^{(4)}, \\dots, \\textbf{x}^{(T)} \\}$$\n",
    "\n",
    "a corresponding sequence of center-word feature representations:\n",
    "\n",
    "$$U = \\{ \\textbf{u}^{(1)}, \\textbf{u}^{(2)}, \\textbf{u}^{(3)}, \\textbf{u}^{(4)}, \\dots, \\textbf{u}^{(T)} \\}$$\n",
    "\n",
    "and a corresponding context-word feature representations:\n",
    "\n",
    "$$V = \\{ \\textbf{v}^{(1)}, \\textbf{v}^{(2)}, \\textbf{v}^{(3)}, \\textbf{v}^{(4)}, \\dots, \\textbf{v}^{(T)} \\}$$\n",
    "\n",
    "Then, using the Word2Vec variable naming convention above, recall that in simple self attention (Lecture-09) we compute a set of *context vectors*:\n",
    "\n",
    "$$C = \\{ \\textbf{c}^{(1)}, \\textbf{c}^{(2)}, \\textbf{c}^{(3)}, \\textbf{c}^{(4)}, \\dots, \\textbf{c}^{(T)} \\}$$ \n",
    "\n",
    "each of which is computed according to:\n",
    "\n",
    "$$\n",
    "\\textbf{c}^{(t)} = \\sum_{t'=1}^{T} \\alpha_{t,t'} \\; \\textbf{u}^{(t)} \\quad where \\quad \\alpha_{t,t'} = \\frac{ e^{ \\textbf{u}^{(t)} \\cdot \\textbf{v}^{(t')} } }{ \\sum_{t''} e^{ \\textbf{u}^{(t)} \\cdot \\textbf{v}^{(t'')} } } \\\\\n",
    "$$\n",
    "\n",
    "The attention weights make up the following (non-symmetric!) matrix:\n",
    "\n",
    "$$\n",
    "\\textbf{A} = \n",
    "\\left[ \\begin{array}{ccc}\n",
    "\\alpha_{1,1} & \\dots & \\alpha_{1,T} \\\\\n",
    "\\vdots & \\ddots & \\vdots \\\\\n",
    "\\alpha_{T,1} & \\dots & \\alpha_{T,T}\n",
    "\\end{array}\\right] \\; \\in [0,1]^{T \\times T} \\quad where \\quad \\sum_{t'} \\alpha_{t,t'} = 1\n",
    "$$"
   ]
  },
  {
   "cell_type": "markdown",
   "id": "62854825-7105-410a-9a73-87289cc349c6",
   "metadata": {},
   "source": [
    "### Test sentence"
   ]
  },
  {
   "cell_type": "code",
   "execution_count": 1,
   "id": "2649d1fc-1e1d-4f13-a1b3-500859e1b461",
   "metadata": {},
   "outputs": [],
   "source": [
    "sentence = \"Thomas Jefferson was an American statesman and Founding Father who served as the third president of the United States\""
   ]
  },
  {
   "cell_type": "markdown",
   "id": "57a6b869-1728-4d17-9b9c-816a07d8b6e7",
   "metadata": {
    "tags": []
   },
   "source": [
    "### Load Word2Vec vocab, embedding matrices\n",
    "\n",
    "In the `assignments/a4/` folder you will find three .tsv files: a vocabulary (`metadata.tsv`), center-word Word2Vec embeddings (`vectors_center.tsv`), and context-word Word2Vec embeddings (`vectors_context.tsv`). These are taking from the Lecture-05 Word2Vec demo. The code below loads the center and context word embeddings for the above test sentence into two numpy arrays: $U$, and $V$. "
   ]
  },
  {
   "cell_type": "code",
   "execution_count": 2,
   "id": "c9da824f-7165-4aee-a88a-fbd9299de373",
   "metadata": {},
   "outputs": [
    {
     "name": "stdout",
     "output_type": "stream",
     "text": [
      "vocab size: 2321\n",
      "embed dim: 15\n",
      "center embedding lookup matrix shape: (15, 2321)\n",
      "context embedding lookup matrix shape: (15, 2321)\n"
     ]
    }
   ],
   "source": [
    "import numpy as np\n",
    "\n",
    "def load_matrix(fpath):\n",
    "    matrix = []\n",
    "    with open(fpath, 'r') as fd:\n",
    "        tsv = fd.read()\n",
    "    for line in tsv.split('\\n'):\n",
    "        row = []\n",
    "        for value in line.split('\\t'):\n",
    "            row.append(float(value))\n",
    "        matrix.append(row)\n",
    "    return np.array(matrix)\n",
    "\n",
    "def load_vocab(fpath) -> dict:\n",
    "    with open(fpath, \"r\") as fd:\n",
    "        tsv = fd.read()\n",
    "    vocab = {}\n",
    "    for line in tsv.split('\\n'):\n",
    "        vocab[line.strip()] = len(vocab)\n",
    "    return vocab\n",
    "\n",
    "vocab = load_vocab(\"metadata.tsv\")\n",
    "U_lookup = load_matrix(\"vectors_center.tsv\").T\n",
    "V_lookup = load_matrix(\"vectors_context.tsv\").T\n",
    "\n",
    "N = len(vocab)\n",
    "D = len(U_lookup)\n",
    "\n",
    "print(f\"vocab size: {N}\")\n",
    "print(f\"embed dim: {D}\")\n",
    "\n",
    "print(f\"center embedding lookup matrix shape: {U_lookup.shape}\")\n",
    "print(f\"context embedding lookup matrix shape: {V_lookup.shape}\")"
   ]
  },
  {
   "cell_type": "code",
   "execution_count": 3,
   "id": "98c125dd-62da-4cf6-ab8c-5305e4d9260f",
   "metadata": {},
   "outputs": [
    {
     "name": "stdout",
     "output_type": "stream",
     "text": [
      "Word indices: [2092, 1075, 2321, 2321, 79, 2321, 2321, 795, 2321, 2321, 2321, 2321, 2321, 2321, 1622, 2321, 2321, 2158, 1987]\n"
     ]
    }
   ],
   "source": [
    "word_list = sentence.lower().split(\" \")\n",
    "X = [vocab.get(word, N) for word in word_list]\n",
    "print(f\"Word indices: {X}\")"
   ]
  },
  {
   "cell_type": "code",
   "execution_count": 4,
   "id": "4ba6669c-910a-414c-adf4-f5a29889574a",
   "metadata": {},
   "outputs": [
    {
     "name": "stdout",
     "output_type": "stream",
     "text": [
      "center word embedding lookup matrix w/oov embed added shape: (15, 2322)\n",
      "context word embedding lookup matrix w/oov embed added shape: (15, 2322)\n"
     ]
    }
   ],
   "source": [
    "# Assign OOV words low attention weights\n",
    "u_oov = 0.1 * np.mean(U_lookup, axis=1, keepdims=True)\n",
    "v_oov = 0.1 * np.mean(V_lookup, axis=1, keepdims=True) \n",
    "# Add the OOV embeddings to the lookup matrices\n",
    "U_lookup = np.concatenate((U_lookup, u_oov), axis=1)\n",
    "V_lookup = np.concatenate((V_lookup, v_oov), axis=1)\n",
    "U_lookup.shape, V_lookup.shape\n",
    "\n",
    "print(f\"center word embedding lookup matrix w/oov embed added shape: {U_lookup.shape}\")\n",
    "print(f\"context word embedding lookup matrix w/oov embed added shape: {U_lookup.shape}\")"
   ]
  },
  {
   "cell_type": "code",
   "execution_count": 5,
   "id": "d6dd2270-b227-4632-ad98-c25a53c02539",
   "metadata": {},
   "outputs": [
    {
     "name": "stdout",
     "output_type": "stream",
     "text": [
      "sequence of center-word embeddings shape: (15, 19)\n",
      "sequence of context-word embeddings shape: (15, 19)\n"
     ]
    }
   ],
   "source": [
    "# Center-word embedding sequence of X\n",
    "U = U_lookup[:, X]\n",
    "# Context-word embedding sequence of X\n",
    "V = V_lookup[:, X]\n",
    "\n",
    "print(f\"sequence of center-word embeddings shape: {U.shape}\")\n",
    "print(f\"sequence of context-word embeddings shape: {U.shape}\")"
   ]
  },
  {
   "cell_type": "markdown",
   "id": "82fdff31-c989-4ad4-9acc-9bc58d2d996f",
   "metadata": {},
   "source": [
    "# Questions"
   ]
  },
  {
   "cell_type": "markdown",
   "id": "c7175d4f-f87e-4c18-a97e-ef9ba463cfaf",
   "metadata": {},
   "source": [
    "### (40 pts) Q1: Attention weights\n",
    "\n",
    "1. Compute the attention weight matrix $\\textbf{A}$ for this test sentence using the definitions provided in the intro (and in Lecture-09 as needed).\n",
    "\n",
    "*Hint: You can use the batched `softmax()` function provided below to compute A.*"
   ]
  },
  {
   "cell_type": "code",
   "execution_count": 6,
   "id": "39a31692-e34a-494b-ac09-e130269678de",
   "metadata": {},
   "outputs": [],
   "source": [
    "def softmax(Z) -> np.ndarray:\n",
    "    \"\"\"\n",
    "    Computes a softmax over each row of Z\n",
    "    \"\"\"\n",
    "    Z_exp = np.exp(Z - np.max(Z, axis=1, keepdims=True))\n",
    "    partition = np.sum(Z_exp, axis=1, keepdims=True)\n",
    "    return Z_exp / partition"
   ]
  },
  {
   "cell_type": "code",
   "execution_count": 7,
   "id": "030f90a1",
   "metadata": {},
   "outputs": [
    {
     "data": {
      "text/plain": [
       "array([[5.74356406e-01, 3.81443431e-01, 1.21851746e-04, 1.21851746e-04,\n",
       "        8.73904800e-03, 1.21851746e-04, 1.21851746e-04, 1.39863417e-02,\n",
       "        1.21851746e-04, 1.21851746e-04, 1.21851746e-04, 1.21851746e-04,\n",
       "        1.21851746e-04, 1.21851746e-04, 3.62530237e-03, 1.21851746e-04,\n",
       "        1.21851746e-04, 8.02952211e-03, 8.35772837e-03],\n",
       "       [1.72014207e-01, 7.89592190e-01, 6.16304130e-04, 6.16304130e-04,\n",
       "        1.57767780e-03, 6.16304130e-04, 6.16304130e-04, 2.15121405e-02,\n",
       "        6.16304130e-04, 6.16304130e-04, 6.16304130e-04, 6.16304130e-04,\n",
       "        6.16304130e-04, 6.16304130e-04, 3.96380535e-03, 6.16304130e-04,\n",
       "        6.16304130e-04, 2.15085594e-03, 1.79347392e-03],\n",
       "       [6.11989573e-02, 6.52114170e-02, 4.66123704e-02, 4.66123704e-02,\n",
       "        6.27084094e-02, 4.66123704e-02, 4.66123704e-02, 6.43780645e-02,\n",
       "        4.66123704e-02, 4.66123704e-02, 4.66123704e-02, 4.66123704e-02,\n",
       "        4.66123704e-02, 4.66123704e-02, 6.25377866e-02, 4.66123704e-02,\n",
       "        4.66123704e-02, 6.22865381e-02, 6.23303826e-02],\n",
       "       [6.11989573e-02, 6.52114170e-02, 4.66123704e-02, 4.66123704e-02,\n",
       "        6.27084094e-02, 4.66123704e-02, 4.66123704e-02, 6.43780645e-02,\n",
       "        4.66123704e-02, 4.66123704e-02, 4.66123704e-02, 4.66123704e-02,\n",
       "        4.66123704e-02, 4.66123704e-02, 6.25377866e-02, 4.66123704e-02,\n",
       "        4.66123704e-02, 6.22865381e-02, 6.23303826e-02],\n",
       "       [8.85408899e-02, 3.93347314e-01, 3.02058835e-05, 3.02058835e-05,\n",
       "        1.01259834e-01, 3.02058835e-05, 3.02058835e-05, 1.62760704e-01,\n",
       "        3.02058835e-05, 3.02058835e-05, 3.02058835e-05, 3.02058835e-05,\n",
       "        3.02058835e-05, 3.02058835e-05, 7.89066308e-02, 3.02058835e-05,\n",
       "        3.02058835e-05, 8.92586886e-02, 8.55634673e-02],\n",
       "       [6.11989573e-02, 6.52114170e-02, 4.66123704e-02, 4.66123704e-02,\n",
       "        6.27084094e-02, 4.66123704e-02, 4.66123704e-02, 6.43780645e-02,\n",
       "        4.66123704e-02, 4.66123704e-02, 4.66123704e-02, 4.66123704e-02,\n",
       "        4.66123704e-02, 4.66123704e-02, 6.25377866e-02, 4.66123704e-02,\n",
       "        4.66123704e-02, 6.22865381e-02, 6.23303826e-02],\n",
       "       [6.11989573e-02, 6.52114170e-02, 4.66123704e-02, 4.66123704e-02,\n",
       "        6.27084094e-02, 4.66123704e-02, 4.66123704e-02, 6.43780645e-02,\n",
       "        4.66123704e-02, 4.66123704e-02, 4.66123704e-02, 4.66123704e-02,\n",
       "        4.66123704e-02, 4.66123704e-02, 6.25377866e-02, 4.66123704e-02,\n",
       "        4.66123704e-02, 6.22865381e-02, 6.23303826e-02],\n",
       "       [3.68647269e-02, 2.07931296e-01, 1.47089530e-03, 1.47089530e-03,\n",
       "        1.42783589e-02, 1.47089530e-03, 1.47089530e-03, 5.11341882e-01,\n",
       "        1.47089530e-03, 1.47089530e-03, 1.47089530e-03, 1.47089530e-03,\n",
       "        1.47089530e-03, 1.47089530e-03, 1.42178057e-01, 1.47089530e-03,\n",
       "        1.47089530e-03, 3.53955263e-02, 3.43594093e-02],\n",
       "       [6.11989573e-02, 6.52114170e-02, 4.66123704e-02, 4.66123704e-02,\n",
       "        6.27084094e-02, 4.66123704e-02, 4.66123704e-02, 6.43780645e-02,\n",
       "        4.66123704e-02, 4.66123704e-02, 4.66123704e-02, 4.66123704e-02,\n",
       "        4.66123704e-02, 4.66123704e-02, 6.25377866e-02, 4.66123704e-02,\n",
       "        4.66123704e-02, 6.22865381e-02, 6.23303826e-02],\n",
       "       [6.11989573e-02, 6.52114170e-02, 4.66123704e-02, 4.66123704e-02,\n",
       "        6.27084094e-02, 4.66123704e-02, 4.66123704e-02, 6.43780645e-02,\n",
       "        4.66123704e-02, 4.66123704e-02, 4.66123704e-02, 4.66123704e-02,\n",
       "        4.66123704e-02, 4.66123704e-02, 6.25377866e-02, 4.66123704e-02,\n",
       "        4.66123704e-02, 6.22865381e-02, 6.23303826e-02],\n",
       "       [6.11989573e-02, 6.52114170e-02, 4.66123704e-02, 4.66123704e-02,\n",
       "        6.27084094e-02, 4.66123704e-02, 4.66123704e-02, 6.43780645e-02,\n",
       "        4.66123704e-02, 4.66123704e-02, 4.66123704e-02, 4.66123704e-02,\n",
       "        4.66123704e-02, 4.66123704e-02, 6.25377866e-02, 4.66123704e-02,\n",
       "        4.66123704e-02, 6.22865381e-02, 6.23303826e-02],\n",
       "       [6.11989573e-02, 6.52114170e-02, 4.66123704e-02, 4.66123704e-02,\n",
       "        6.27084094e-02, 4.66123704e-02, 4.66123704e-02, 6.43780645e-02,\n",
       "        4.66123704e-02, 4.66123704e-02, 4.66123704e-02, 4.66123704e-02,\n",
       "        4.66123704e-02, 4.66123704e-02, 6.25377866e-02, 4.66123704e-02,\n",
       "        4.66123704e-02, 6.22865381e-02, 6.23303826e-02],\n",
       "       [6.11989573e-02, 6.52114170e-02, 4.66123704e-02, 4.66123704e-02,\n",
       "        6.27084094e-02, 4.66123704e-02, 4.66123704e-02, 6.43780645e-02,\n",
       "        4.66123704e-02, 4.66123704e-02, 4.66123704e-02, 4.66123704e-02,\n",
       "        4.66123704e-02, 4.66123704e-02, 6.25377866e-02, 4.66123704e-02,\n",
       "        4.66123704e-02, 6.22865381e-02, 6.23303826e-02],\n",
       "       [6.11989573e-02, 6.52114170e-02, 4.66123704e-02, 4.66123704e-02,\n",
       "        6.27084094e-02, 4.66123704e-02, 4.66123704e-02, 6.43780645e-02,\n",
       "        4.66123704e-02, 4.66123704e-02, 4.66123704e-02, 4.66123704e-02,\n",
       "        4.66123704e-02, 4.66123704e-02, 6.25377866e-02, 4.66123704e-02,\n",
       "        4.66123704e-02, 6.22865381e-02, 6.23303826e-02],\n",
       "       [2.60001344e-02, 1.54788331e-01, 3.30902023e-04, 3.30902023e-04,\n",
       "        1.79766451e-02, 3.30902023e-04, 3.30902023e-04, 1.71183676e-01,\n",
       "        3.30902023e-04, 3.30902023e-04, 3.30902023e-04, 3.30902023e-04,\n",
       "        3.30902023e-04, 3.30902023e-04, 5.93717742e-01, 3.30902023e-04,\n",
       "        3.30902023e-04, 1.62469944e-02, 1.61156529e-02],\n",
       "       [6.11989573e-02, 6.52114170e-02, 4.66123704e-02, 4.66123704e-02,\n",
       "        6.27084094e-02, 4.66123704e-02, 4.66123704e-02, 6.43780645e-02,\n",
       "        4.66123704e-02, 4.66123704e-02, 4.66123704e-02, 4.66123704e-02,\n",
       "        4.66123704e-02, 4.66123704e-02, 6.25377866e-02, 4.66123704e-02,\n",
       "        4.66123704e-02, 6.22865381e-02, 6.23303826e-02],\n",
       "       [6.11989573e-02, 6.52114170e-02, 4.66123704e-02, 4.66123704e-02,\n",
       "        6.27084094e-02, 4.66123704e-02, 4.66123704e-02, 6.43780645e-02,\n",
       "        4.66123704e-02, 4.66123704e-02, 4.66123704e-02, 4.66123704e-02,\n",
       "        4.66123704e-02, 4.66123704e-02, 6.25377866e-02, 4.66123704e-02,\n",
       "        4.66123704e-02, 6.22865381e-02, 6.23303826e-02],\n",
       "       [5.23217229e-02, 1.51688581e-01, 1.29075636e-05, 1.29075636e-05,\n",
       "        2.97550691e-02, 1.29075636e-05, 1.29075636e-05, 1.15736317e-01,\n",
       "        1.29075636e-05, 1.29075636e-05, 1.29075636e-05, 1.29075636e-05,\n",
       "        1.29075636e-05, 1.29075636e-05, 3.22601903e-02, 1.29075636e-05,\n",
       "        1.29075636e-05, 3.39353662e-01, 2.78729567e-01],\n",
       "       [5.93733753e-02, 1.57206694e-01, 1.20355940e-05, 1.20355940e-05,\n",
       "        2.97631802e-02, 1.20355940e-05, 1.20355940e-05, 1.14589032e-01,\n",
       "        1.20355940e-05, 1.20355940e-05, 1.20355940e-05, 1.20355940e-05,\n",
       "        1.20355940e-05, 1.20355940e-05, 3.46813234e-02, 1.20355940e-05,\n",
       "        1.20355940e-05, 3.31668276e-01, 2.72573692e-01]])"
      ]
     },
     "execution_count": 7,
     "metadata": {},
     "output_type": "execute_result"
    }
   ],
   "source": [
    "def compute_A():\n",
    "    T= np.shape(U)[1]\n",
    "    A= np.zeros((T, T))\n",
    "    for t in range(T):\n",
    "        for t_ in range(T):\n",
    "            A[t,t_]= np.dot(U[:,t].T, V[:,t_])\n",
    "    A= softmax(A.T)\n",
    "    return A\n",
    "A= compute_A()\n",
    "A"
   ]
  },
  {
   "cell_type": "markdown",
   "id": "2266711c-3030-465d-a29a-48d11b010ee7",
   "metadata": {},
   "source": [
    "### (40 pts) Q2: Attention block\n",
    "\n",
    "1. Now compute the attention block $C$ using the attention weights that you've computed\n",
    "\n",
    "2. Compute the L2 norm of each of the resultant context vectors. Do the same for the center-word embeddings in the preceeding layer. How do the magnitudes compare? Is there a logical explanation for this?\n",
    "\n",
    "*Hint: You need to compute $\\textbf{c}^{(t)} \\; \\forall t \\in \\{1, \\dots, T\\}$.*"
   ]
  },
  {
   "cell_type": "code",
   "execution_count": 11,
   "id": "41733288-1899-429e-9567-2ed49d186eec",
   "metadata": {},
   "outputs": [
    {
     "name": "stdout",
     "output_type": "stream",
     "text": [
      "[[2.58233272 2.76029449 0.95049638 0.95049638 2.07611731 0.95049638\n",
      "  0.95049638 2.20270947 0.95049638 0.95049638 0.95049638 0.95049638\n",
      "  0.95049638 0.95049638 2.39554166 0.95049638 0.95049638 2.09189047\n",
      "  2.08111205]]\n",
      "[[2.72844333 2.9714337  0.18668972 0.18668972 2.28072887 0.18668972\n",
      "  0.18668972 2.61942014 0.18668972 0.18668972 0.18668972 0.18668972\n",
      "  0.18668972 0.18668972 2.97048526 0.18668972 0.18668972 2.53529085\n",
      "  2.53219772]]\n"
     ]
    }
   ],
   "source": [
    "def compute_C():\n",
    "    C= np.zeros((np.shape(U)[0],np.shape(U)[1]))\n",
    "    C= C.T\n",
    "    T= np.shape(U)[1]\n",
    "    for t in range(T):\n",
    "        C[t]= sum(A[t,i] * U.T[i] for i in range(T))\n",
    "    return C.T   \n",
    "C= compute_C()\n",
    "C_L2= np.linalg.norm(C.T, axis=1, keepdims=True)\n",
    "U_L2= np.linalg.norm(U.T, axis=1, keepdims=True)\n",
    "print(C_L2.T)\n",
    "print(U_L2.T)"
   ]
  },
  {
   "cell_type": "markdown",
   "id": "63102a80",
   "metadata": {},
   "source": [
    "The original encoder U is encodes directly according to the input sequnence, while C_L2_form is computed by the weights of importance of the input information. When we use the L2 form, we lessen the differences between information and make the useless or unimportant information close to 0, which will be restrained effects in the preceeding layer. Change the C into the L2 form of it, which makes our computing later more easier and lessens the store space."
   ]
  },
  {
   "cell_type": "markdown",
   "id": "a4018f05-2d77-4059-8205-f05c30e1c9b3",
   "metadata": {},
   "source": [
    "### (20 pts) Q3: Visualize the attention weights\n",
    "\n",
    "Now that we've computed a simple self attention transformation of our Word2Vec sequence representation, it's time to visually examine what this attention mechanism affords us. First recognize that all values in $\\textbf{A}$ are in the range $[0,1]$, and that each row is normalized. Therefore, we really just need to generate a heatmap of this matrix, keeping in mind that the matrix indices correspond directly to the positions in the sequence.\n",
    "\n",
    "1. Generate the heatmap in the cell provided below\n",
    "\n",
    "2. Briefly describe/explain what you see in the heatmap.\n",
    "\n",
    "3. Why is our attention matrix not symmetric?\n",
    "\n",
    "*Hint: You can generate a heatmap of the attention weights by calling `plot_attention_weights(A)`.*"
   ]
  },
  {
   "cell_type": "code",
   "execution_count": 89,
   "id": "2e3a3572-90f1-49cc-a82f-e4234af68e15",
   "metadata": {},
   "outputs": [],
   "source": [
    "import plotly.express as px\n",
    "def plot_attention_weights(att_matrix):\n",
    "    fig = px.imshow(A, x=word_list, y=word_list, width=20, height=20)\n",
    "    fig.update_layout(width=800, height=800)\n",
    "    print(sentence)\n",
    "    fig.show()    \n",
    "    fig.write_html(\"A.html\")"
   ]
  },
  {
   "cell_type": "code",
   "execution_count": 90,
   "id": "a37cda4a",
   "metadata": {},
   "outputs": [
    {
     "name": "stdout",
     "output_type": "stream",
     "text": [
      "Thomas Jefferson was an American statesman and Founding Father who served as the third president of the United States\n"
     ]
    },
    {
     "data": {
      "application/vnd.plotly.v1+json": {
       "config": {
        "plotlyServerURL": "https://plot.ly"
       },
       "data": [
        {
         "coloraxis": "coloraxis",
         "hovertemplate": "x: %{x}<br>y: %{y}<br>color: %{z}<extra></extra>",
         "name": "0",
         "type": "heatmap",
         "x": [
          "thomas",
          "jefferson",
          "was",
          "an",
          "american",
          "statesman",
          "and",
          "founding",
          "father",
          "who",
          "served",
          "as",
          "the",
          "third",
          "president",
          "of",
          "the",
          "united",
          "states"
         ],
         "xaxis": "x",
         "y": [
          "thomas",
          "jefferson",
          "was",
          "an",
          "american",
          "statesman",
          "and",
          "founding",
          "father",
          "who",
          "served",
          "as",
          "the",
          "third",
          "president",
          "of",
          "the",
          "united",
          "states"
         ],
         "yaxis": "y",
         "z": [
          [
           0.574356405750537,
           0.3814434307437242,
           0.00012185174580371234,
           0.00012185174580371234,
           0.008739047999330788,
           0.00012185174580371234,
           0.00012185174580371234,
           0.013986341704464599,
           0.00012185174580371234,
           0.00012185174580371234,
           0.00012185174580371234,
           0.00012185174580371234,
           0.00012185174580371234,
           0.00012185174580371234,
           0.003625302367185937,
           0.00012185174580371234,
           0.00012185174580371234,
           0.008029522112462625,
           0.008357728372649812
          ],
          [
           0.172014206544484,
           0.7895921903781511,
           0.0006163041297184179,
           0.0006163041297184179,
           0.0015776778045540596,
           0.0006163041297184179,
           0.0006163041297184179,
           0.021512140509517965,
           0.0006163041297184179,
           0.0006163041297184179,
           0.0006163041297184179,
           0.0006163041297184179,
           0.0006163041297184179,
           0.0006163041297184179,
           0.003963805347908197,
           0.0006163041297184179,
           0.0006163041297184179,
           0.002150855938455749,
           0.0017934739203077055
          ],
          [
           0.06119895728266901,
           0.06521141704029965,
           0.04661237037239367,
           0.04661237037239367,
           0.06270840936395312,
           0.04661237037239367,
           0.04661237037239367,
           0.06437806453168467,
           0.04661237037239367,
           0.04661237037239367,
           0.04661237037239367,
           0.04661237037239367,
           0.04661237037239367,
           0.04661237037239367,
           0.06253778661067716,
           0.04661237037239367,
           0.04661237037239367,
           0.06228653810133597,
           0.06233038260065649
          ],
          [
           0.06119895728266901,
           0.06521141704029965,
           0.04661237037239367,
           0.04661237037239367,
           0.06270840936395312,
           0.04661237037239367,
           0.04661237037239367,
           0.06437806453168467,
           0.04661237037239367,
           0.04661237037239367,
           0.04661237037239367,
           0.04661237037239367,
           0.04661237037239367,
           0.04661237037239367,
           0.06253778661067716,
           0.04661237037239367,
           0.04661237037239367,
           0.06228653810133597,
           0.06233038260065649
          ],
          [
           0.08854088988573414,
           0.3933473140874989,
           3.0205883471189533e-05,
           3.0205883471189533e-05,
           0.10125983440425562,
           3.0205883471189533e-05,
           3.0205883471189533e-05,
           0.1627607043587361,
           3.0205883471189533e-05,
           3.0205883471189533e-05,
           3.0205883471189533e-05,
           3.0205883471189533e-05,
           3.0205883471189533e-05,
           3.0205883471189533e-05,
           0.07890663082055598,
           3.0205883471189533e-05,
           3.0205883471189533e-05,
           0.08925868855821532,
           0.08556346728334974
          ],
          [
           0.06119895728266901,
           0.06521141704029965,
           0.04661237037239367,
           0.04661237037239367,
           0.06270840936395312,
           0.04661237037239367,
           0.04661237037239367,
           0.06437806453168467,
           0.04661237037239367,
           0.04661237037239367,
           0.04661237037239367,
           0.04661237037239367,
           0.04661237037239367,
           0.04661237037239367,
           0.06253778661067716,
           0.04661237037239367,
           0.04661237037239367,
           0.06228653810133597,
           0.06233038260065649
          ],
          [
           0.06119895728266901,
           0.06521141704029965,
           0.04661237037239367,
           0.04661237037239367,
           0.06270840936395312,
           0.04661237037239367,
           0.04661237037239367,
           0.06437806453168467,
           0.04661237037239367,
           0.04661237037239367,
           0.04661237037239367,
           0.04661237037239367,
           0.04661237037239367,
           0.04661237037239367,
           0.06253778661067716,
           0.04661237037239367,
           0.04661237037239367,
           0.06228653810133597,
           0.06233038260065649
          ],
          [
           0.03686472688020711,
           0.20793129570144858,
           0.0014708953030788873,
           0.0014708953030788873,
           0.014278358856000319,
           0.0014708953030788873,
           0.0014708953030788873,
           0.5113418822495922,
           0.0014708953030788873,
           0.0014708953030788873,
           0.0014708953030788873,
           0.0014708953030788873,
           0.0014708953030788873,
           0.0014708953030788873,
           0.1421780571112092,
           0.0014708953030788873,
           0.0014708953030788873,
           0.035395526292483145,
           0.034359409272113235
          ],
          [
           0.06119895728266901,
           0.06521141704029965,
           0.04661237037239367,
           0.04661237037239367,
           0.06270840936395312,
           0.04661237037239367,
           0.04661237037239367,
           0.06437806453168467,
           0.04661237037239367,
           0.04661237037239367,
           0.04661237037239367,
           0.04661237037239367,
           0.04661237037239367,
           0.04661237037239367,
           0.06253778661067716,
           0.04661237037239367,
           0.04661237037239367,
           0.06228653810133597,
           0.06233038260065649
          ],
          [
           0.06119895728266901,
           0.06521141704029965,
           0.04661237037239367,
           0.04661237037239367,
           0.06270840936395312,
           0.04661237037239367,
           0.04661237037239367,
           0.06437806453168467,
           0.04661237037239367,
           0.04661237037239367,
           0.04661237037239367,
           0.04661237037239367,
           0.04661237037239367,
           0.04661237037239367,
           0.06253778661067716,
           0.04661237037239367,
           0.04661237037239367,
           0.06228653810133597,
           0.06233038260065649
          ],
          [
           0.06119895728266901,
           0.06521141704029965,
           0.04661237037239367,
           0.04661237037239367,
           0.06270840936395312,
           0.04661237037239367,
           0.04661237037239367,
           0.06437806453168467,
           0.04661237037239367,
           0.04661237037239367,
           0.04661237037239367,
           0.04661237037239367,
           0.04661237037239367,
           0.04661237037239367,
           0.06253778661067716,
           0.04661237037239367,
           0.04661237037239367,
           0.06228653810133597,
           0.06233038260065649
          ],
          [
           0.06119895728266901,
           0.06521141704029965,
           0.04661237037239367,
           0.04661237037239367,
           0.06270840936395312,
           0.04661237037239367,
           0.04661237037239367,
           0.06437806453168467,
           0.04661237037239367,
           0.04661237037239367,
           0.04661237037239367,
           0.04661237037239367,
           0.04661237037239367,
           0.04661237037239367,
           0.06253778661067716,
           0.04661237037239367,
           0.04661237037239367,
           0.06228653810133597,
           0.06233038260065649
          ],
          [
           0.06119895728266901,
           0.06521141704029965,
           0.04661237037239367,
           0.04661237037239367,
           0.06270840936395312,
           0.04661237037239367,
           0.04661237037239367,
           0.06437806453168467,
           0.04661237037239367,
           0.04661237037239367,
           0.04661237037239367,
           0.04661237037239367,
           0.04661237037239367,
           0.04661237037239367,
           0.06253778661067716,
           0.04661237037239367,
           0.04661237037239367,
           0.06228653810133597,
           0.06233038260065649
          ],
          [
           0.06119895728266901,
           0.06521141704029965,
           0.04661237037239367,
           0.04661237037239367,
           0.06270840936395312,
           0.04661237037239367,
           0.04661237037239367,
           0.06437806453168467,
           0.04661237037239367,
           0.04661237037239367,
           0.04661237037239367,
           0.04661237037239367,
           0.04661237037239367,
           0.04661237037239367,
           0.06253778661067716,
           0.04661237037239367,
           0.04661237037239367,
           0.06228653810133597,
           0.06233038260065649
          ],
          [
           0.026000134380147935,
           0.15478833076246476,
           0.0003309020225355964,
           0.0003309020225355964,
           0.017976645070882483,
           0.0003309020225355964,
           0.0003309020225355964,
           0.17118367639294052,
           0.0003309020225355964,
           0.0003309020225355964,
           0.0003309020225355964,
           0.0003309020225355964,
           0.0003309020225355964,
           0.0003309020225355964,
           0.5937177417962505,
           0.0003309020225355964,
           0.0003309020225355964,
           0.016246994396061858,
           0.01611565293082494
          ],
          [
           0.06119895728266901,
           0.06521141704029965,
           0.04661237037239367,
           0.04661237037239367,
           0.06270840936395312,
           0.04661237037239367,
           0.04661237037239367,
           0.06437806453168467,
           0.04661237037239367,
           0.04661237037239367,
           0.04661237037239367,
           0.04661237037239367,
           0.04661237037239367,
           0.04661237037239367,
           0.06253778661067716,
           0.04661237037239367,
           0.04661237037239367,
           0.06228653810133597,
           0.06233038260065649
          ],
          [
           0.06119895728266901,
           0.06521141704029965,
           0.04661237037239367,
           0.04661237037239367,
           0.06270840936395312,
           0.04661237037239367,
           0.04661237037239367,
           0.06437806453168467,
           0.04661237037239367,
           0.04661237037239367,
           0.04661237037239367,
           0.04661237037239367,
           0.04661237037239367,
           0.04661237037239367,
           0.06253778661067716,
           0.04661237037239367,
           0.04661237037239367,
           0.06228653810133597,
           0.06233038260065649
          ],
          [
           0.05232172294136182,
           0.15168858069430347,
           1.290756362393896e-05,
           1.290756362393896e-05,
           0.029755069148142937,
           1.290756362393896e-05,
           1.290756362393896e-05,
           0.11573631710298603,
           1.290756362393896e-05,
           1.290756362393896e-05,
           1.290756362393896e-05,
           1.290756362393896e-05,
           1.290756362393896e-05,
           1.290756362393896e-05,
           0.032260190345827486,
           1.290756362393896e-05,
           1.290756362393896e-05,
           0.3393536616375261,
           0.278729567366365
          ],
          [
           0.05937337529069418,
           0.15720669433226134,
           1.2035593962921205e-05,
           1.2035593962921205e-05,
           0.029763180157250015,
           1.2035593962921205e-05,
           1.2035593962921205e-05,
           0.11458903204759337,
           1.2035593962921205e-05,
           1.2035593962921205e-05,
           1.2035593962921205e-05,
           1.2035593962921205e-05,
           1.2035593962921205e-05,
           1.2035593962921205e-05,
           0.03468132343508581,
           1.2035593962921205e-05,
           1.2035593962921205e-05,
           0.33166827573958063,
           0.2725736918699798
          ]
         ]
        }
       ],
       "layout": {
        "coloraxis": {
         "colorscale": [
          [
           0,
           "#0d0887"
          ],
          [
           0.1111111111111111,
           "#46039f"
          ],
          [
           0.2222222222222222,
           "#7201a8"
          ],
          [
           0.3333333333333333,
           "#9c179e"
          ],
          [
           0.4444444444444444,
           "#bd3786"
          ],
          [
           0.5555555555555556,
           "#d8576b"
          ],
          [
           0.6666666666666666,
           "#ed7953"
          ],
          [
           0.7777777777777778,
           "#fb9f3a"
          ],
          [
           0.8888888888888888,
           "#fdca26"
          ],
          [
           1,
           "#f0f921"
          ]
         ]
        },
        "height": 800,
        "margin": {
         "t": 60
        },
        "template": {
         "data": {
          "bar": [
           {
            "error_x": {
             "color": "#2a3f5f"
            },
            "error_y": {
             "color": "#2a3f5f"
            },
            "marker": {
             "line": {
              "color": "#E5ECF6",
              "width": 0.5
             },
             "pattern": {
              "fillmode": "overlay",
              "size": 10,
              "solidity": 0.2
             }
            },
            "type": "bar"
           }
          ],
          "barpolar": [
           {
            "marker": {
             "line": {
              "color": "#E5ECF6",
              "width": 0.5
             },
             "pattern": {
              "fillmode": "overlay",
              "size": 10,
              "solidity": 0.2
             }
            },
            "type": "barpolar"
           }
          ],
          "carpet": [
           {
            "aaxis": {
             "endlinecolor": "#2a3f5f",
             "gridcolor": "white",
             "linecolor": "white",
             "minorgridcolor": "white",
             "startlinecolor": "#2a3f5f"
            },
            "baxis": {
             "endlinecolor": "#2a3f5f",
             "gridcolor": "white",
             "linecolor": "white",
             "minorgridcolor": "white",
             "startlinecolor": "#2a3f5f"
            },
            "type": "carpet"
           }
          ],
          "choropleth": [
           {
            "colorbar": {
             "outlinewidth": 0,
             "ticks": ""
            },
            "type": "choropleth"
           }
          ],
          "contour": [
           {
            "colorbar": {
             "outlinewidth": 0,
             "ticks": ""
            },
            "colorscale": [
             [
              0,
              "#0d0887"
             ],
             [
              0.1111111111111111,
              "#46039f"
             ],
             [
              0.2222222222222222,
              "#7201a8"
             ],
             [
              0.3333333333333333,
              "#9c179e"
             ],
             [
              0.4444444444444444,
              "#bd3786"
             ],
             [
              0.5555555555555556,
              "#d8576b"
             ],
             [
              0.6666666666666666,
              "#ed7953"
             ],
             [
              0.7777777777777778,
              "#fb9f3a"
             ],
             [
              0.8888888888888888,
              "#fdca26"
             ],
             [
              1,
              "#f0f921"
             ]
            ],
            "type": "contour"
           }
          ],
          "contourcarpet": [
           {
            "colorbar": {
             "outlinewidth": 0,
             "ticks": ""
            },
            "type": "contourcarpet"
           }
          ],
          "heatmap": [
           {
            "colorbar": {
             "outlinewidth": 0,
             "ticks": ""
            },
            "colorscale": [
             [
              0,
              "#0d0887"
             ],
             [
              0.1111111111111111,
              "#46039f"
             ],
             [
              0.2222222222222222,
              "#7201a8"
             ],
             [
              0.3333333333333333,
              "#9c179e"
             ],
             [
              0.4444444444444444,
              "#bd3786"
             ],
             [
              0.5555555555555556,
              "#d8576b"
             ],
             [
              0.6666666666666666,
              "#ed7953"
             ],
             [
              0.7777777777777778,
              "#fb9f3a"
             ],
             [
              0.8888888888888888,
              "#fdca26"
             ],
             [
              1,
              "#f0f921"
             ]
            ],
            "type": "heatmap"
           }
          ],
          "heatmapgl": [
           {
            "colorbar": {
             "outlinewidth": 0,
             "ticks": ""
            },
            "colorscale": [
             [
              0,
              "#0d0887"
             ],
             [
              0.1111111111111111,
              "#46039f"
             ],
             [
              0.2222222222222222,
              "#7201a8"
             ],
             [
              0.3333333333333333,
              "#9c179e"
             ],
             [
              0.4444444444444444,
              "#bd3786"
             ],
             [
              0.5555555555555556,
              "#d8576b"
             ],
             [
              0.6666666666666666,
              "#ed7953"
             ],
             [
              0.7777777777777778,
              "#fb9f3a"
             ],
             [
              0.8888888888888888,
              "#fdca26"
             ],
             [
              1,
              "#f0f921"
             ]
            ],
            "type": "heatmapgl"
           }
          ],
          "histogram": [
           {
            "marker": {
             "pattern": {
              "fillmode": "overlay",
              "size": 10,
              "solidity": 0.2
             }
            },
            "type": "histogram"
           }
          ],
          "histogram2d": [
           {
            "colorbar": {
             "outlinewidth": 0,
             "ticks": ""
            },
            "colorscale": [
             [
              0,
              "#0d0887"
             ],
             [
              0.1111111111111111,
              "#46039f"
             ],
             [
              0.2222222222222222,
              "#7201a8"
             ],
             [
              0.3333333333333333,
              "#9c179e"
             ],
             [
              0.4444444444444444,
              "#bd3786"
             ],
             [
              0.5555555555555556,
              "#d8576b"
             ],
             [
              0.6666666666666666,
              "#ed7953"
             ],
             [
              0.7777777777777778,
              "#fb9f3a"
             ],
             [
              0.8888888888888888,
              "#fdca26"
             ],
             [
              1,
              "#f0f921"
             ]
            ],
            "type": "histogram2d"
           }
          ],
          "histogram2dcontour": [
           {
            "colorbar": {
             "outlinewidth": 0,
             "ticks": ""
            },
            "colorscale": [
             [
              0,
              "#0d0887"
             ],
             [
              0.1111111111111111,
              "#46039f"
             ],
             [
              0.2222222222222222,
              "#7201a8"
             ],
             [
              0.3333333333333333,
              "#9c179e"
             ],
             [
              0.4444444444444444,
              "#bd3786"
             ],
             [
              0.5555555555555556,
              "#d8576b"
             ],
             [
              0.6666666666666666,
              "#ed7953"
             ],
             [
              0.7777777777777778,
              "#fb9f3a"
             ],
             [
              0.8888888888888888,
              "#fdca26"
             ],
             [
              1,
              "#f0f921"
             ]
            ],
            "type": "histogram2dcontour"
           }
          ],
          "mesh3d": [
           {
            "colorbar": {
             "outlinewidth": 0,
             "ticks": ""
            },
            "type": "mesh3d"
           }
          ],
          "parcoords": [
           {
            "line": {
             "colorbar": {
              "outlinewidth": 0,
              "ticks": ""
             }
            },
            "type": "parcoords"
           }
          ],
          "pie": [
           {
            "automargin": true,
            "type": "pie"
           }
          ],
          "scatter": [
           {
            "marker": {
             "colorbar": {
              "outlinewidth": 0,
              "ticks": ""
             }
            },
            "type": "scatter"
           }
          ],
          "scatter3d": [
           {
            "line": {
             "colorbar": {
              "outlinewidth": 0,
              "ticks": ""
             }
            },
            "marker": {
             "colorbar": {
              "outlinewidth": 0,
              "ticks": ""
             }
            },
            "type": "scatter3d"
           }
          ],
          "scattercarpet": [
           {
            "marker": {
             "colorbar": {
              "outlinewidth": 0,
              "ticks": ""
             }
            },
            "type": "scattercarpet"
           }
          ],
          "scattergeo": [
           {
            "marker": {
             "colorbar": {
              "outlinewidth": 0,
              "ticks": ""
             }
            },
            "type": "scattergeo"
           }
          ],
          "scattergl": [
           {
            "marker": {
             "colorbar": {
              "outlinewidth": 0,
              "ticks": ""
             }
            },
            "type": "scattergl"
           }
          ],
          "scattermapbox": [
           {
            "marker": {
             "colorbar": {
              "outlinewidth": 0,
              "ticks": ""
             }
            },
            "type": "scattermapbox"
           }
          ],
          "scatterpolar": [
           {
            "marker": {
             "colorbar": {
              "outlinewidth": 0,
              "ticks": ""
             }
            },
            "type": "scatterpolar"
           }
          ],
          "scatterpolargl": [
           {
            "marker": {
             "colorbar": {
              "outlinewidth": 0,
              "ticks": ""
             }
            },
            "type": "scatterpolargl"
           }
          ],
          "scatterternary": [
           {
            "marker": {
             "colorbar": {
              "outlinewidth": 0,
              "ticks": ""
             }
            },
            "type": "scatterternary"
           }
          ],
          "surface": [
           {
            "colorbar": {
             "outlinewidth": 0,
             "ticks": ""
            },
            "colorscale": [
             [
              0,
              "#0d0887"
             ],
             [
              0.1111111111111111,
              "#46039f"
             ],
             [
              0.2222222222222222,
              "#7201a8"
             ],
             [
              0.3333333333333333,
              "#9c179e"
             ],
             [
              0.4444444444444444,
              "#bd3786"
             ],
             [
              0.5555555555555556,
              "#d8576b"
             ],
             [
              0.6666666666666666,
              "#ed7953"
             ],
             [
              0.7777777777777778,
              "#fb9f3a"
             ],
             [
              0.8888888888888888,
              "#fdca26"
             ],
             [
              1,
              "#f0f921"
             ]
            ],
            "type": "surface"
           }
          ],
          "table": [
           {
            "cells": {
             "fill": {
              "color": "#EBF0F8"
             },
             "line": {
              "color": "white"
             }
            },
            "header": {
             "fill": {
              "color": "#C8D4E3"
             },
             "line": {
              "color": "white"
             }
            },
            "type": "table"
           }
          ]
         },
         "layout": {
          "annotationdefaults": {
           "arrowcolor": "#2a3f5f",
           "arrowhead": 0,
           "arrowwidth": 1
          },
          "autotypenumbers": "strict",
          "coloraxis": {
           "colorbar": {
            "outlinewidth": 0,
            "ticks": ""
           }
          },
          "colorscale": {
           "diverging": [
            [
             0,
             "#8e0152"
            ],
            [
             0.1,
             "#c51b7d"
            ],
            [
             0.2,
             "#de77ae"
            ],
            [
             0.3,
             "#f1b6da"
            ],
            [
             0.4,
             "#fde0ef"
            ],
            [
             0.5,
             "#f7f7f7"
            ],
            [
             0.6,
             "#e6f5d0"
            ],
            [
             0.7,
             "#b8e186"
            ],
            [
             0.8,
             "#7fbc41"
            ],
            [
             0.9,
             "#4d9221"
            ],
            [
             1,
             "#276419"
            ]
           ],
           "sequential": [
            [
             0,
             "#0d0887"
            ],
            [
             0.1111111111111111,
             "#46039f"
            ],
            [
             0.2222222222222222,
             "#7201a8"
            ],
            [
             0.3333333333333333,
             "#9c179e"
            ],
            [
             0.4444444444444444,
             "#bd3786"
            ],
            [
             0.5555555555555556,
             "#d8576b"
            ],
            [
             0.6666666666666666,
             "#ed7953"
            ],
            [
             0.7777777777777778,
             "#fb9f3a"
            ],
            [
             0.8888888888888888,
             "#fdca26"
            ],
            [
             1,
             "#f0f921"
            ]
           ],
           "sequentialminus": [
            [
             0,
             "#0d0887"
            ],
            [
             0.1111111111111111,
             "#46039f"
            ],
            [
             0.2222222222222222,
             "#7201a8"
            ],
            [
             0.3333333333333333,
             "#9c179e"
            ],
            [
             0.4444444444444444,
             "#bd3786"
            ],
            [
             0.5555555555555556,
             "#d8576b"
            ],
            [
             0.6666666666666666,
             "#ed7953"
            ],
            [
             0.7777777777777778,
             "#fb9f3a"
            ],
            [
             0.8888888888888888,
             "#fdca26"
            ],
            [
             1,
             "#f0f921"
            ]
           ]
          },
          "colorway": [
           "#636efa",
           "#EF553B",
           "#00cc96",
           "#ab63fa",
           "#FFA15A",
           "#19d3f3",
           "#FF6692",
           "#B6E880",
           "#FF97FF",
           "#FECB52"
          ],
          "font": {
           "color": "#2a3f5f"
          },
          "geo": {
           "bgcolor": "white",
           "lakecolor": "white",
           "landcolor": "#E5ECF6",
           "showlakes": true,
           "showland": true,
           "subunitcolor": "white"
          },
          "hoverlabel": {
           "align": "left"
          },
          "hovermode": "closest",
          "mapbox": {
           "style": "light"
          },
          "paper_bgcolor": "white",
          "plot_bgcolor": "#E5ECF6",
          "polar": {
           "angularaxis": {
            "gridcolor": "white",
            "linecolor": "white",
            "ticks": ""
           },
           "bgcolor": "#E5ECF6",
           "radialaxis": {
            "gridcolor": "white",
            "linecolor": "white",
            "ticks": ""
           }
          },
          "scene": {
           "xaxis": {
            "backgroundcolor": "#E5ECF6",
            "gridcolor": "white",
            "gridwidth": 2,
            "linecolor": "white",
            "showbackground": true,
            "ticks": "",
            "zerolinecolor": "white"
           },
           "yaxis": {
            "backgroundcolor": "#E5ECF6",
            "gridcolor": "white",
            "gridwidth": 2,
            "linecolor": "white",
            "showbackground": true,
            "ticks": "",
            "zerolinecolor": "white"
           },
           "zaxis": {
            "backgroundcolor": "#E5ECF6",
            "gridcolor": "white",
            "gridwidth": 2,
            "linecolor": "white",
            "showbackground": true,
            "ticks": "",
            "zerolinecolor": "white"
           }
          },
          "shapedefaults": {
           "line": {
            "color": "#2a3f5f"
           }
          },
          "ternary": {
           "aaxis": {
            "gridcolor": "white",
            "linecolor": "white",
            "ticks": ""
           },
           "baxis": {
            "gridcolor": "white",
            "linecolor": "white",
            "ticks": ""
           },
           "bgcolor": "#E5ECF6",
           "caxis": {
            "gridcolor": "white",
            "linecolor": "white",
            "ticks": ""
           }
          },
          "title": {
           "x": 0.05
          },
          "xaxis": {
           "automargin": true,
           "gridcolor": "white",
           "linecolor": "white",
           "ticks": "",
           "title": {
            "standoff": 15
           },
           "zerolinecolor": "white",
           "zerolinewidth": 2
          },
          "yaxis": {
           "automargin": true,
           "gridcolor": "white",
           "linecolor": "white",
           "ticks": "",
           "title": {
            "standoff": 15
           },
           "zerolinecolor": "white",
           "zerolinewidth": 2
          }
         }
        },
        "width": 800,
        "xaxis": {
         "anchor": "y",
         "constrain": "domain",
         "domain": [
          0,
          1
         ],
         "scaleanchor": "y"
        },
        "yaxis": {
         "anchor": "x",
         "autorange": "reversed",
         "constrain": "domain",
         "domain": [
          0,
          1
         ]
        }
       }
      },
      "text/html": [
       "<div>                            <div id=\"b093f9f5-ed40-4804-9c69-d5f945750e86\" class=\"plotly-graph-div\" style=\"height:800px; width:800px;\"></div>            <script type=\"text/javascript\">                require([\"plotly\"], function(Plotly) {                    window.PLOTLYENV=window.PLOTLYENV || {};                                    if (document.getElementById(\"b093f9f5-ed40-4804-9c69-d5f945750e86\")) {                    Plotly.newPlot(                        \"b093f9f5-ed40-4804-9c69-d5f945750e86\",                        [{\"coloraxis\":\"coloraxis\",\"name\":\"0\",\"x\":[\"thomas\",\"jefferson\",\"was\",\"an\",\"american\",\"statesman\",\"and\",\"founding\",\"father\",\"who\",\"served\",\"as\",\"the\",\"third\",\"president\",\"of\",\"the\",\"united\",\"states\"],\"y\":[\"thomas\",\"jefferson\",\"was\",\"an\",\"american\",\"statesman\",\"and\",\"founding\",\"father\",\"who\",\"served\",\"as\",\"the\",\"third\",\"president\",\"of\",\"the\",\"united\",\"states\"],\"z\":[[0.574356405750537,0.3814434307437242,0.00012185174580371234,0.00012185174580371234,0.008739047999330788,0.00012185174580371234,0.00012185174580371234,0.013986341704464599,0.00012185174580371234,0.00012185174580371234,0.00012185174580371234,0.00012185174580371234,0.00012185174580371234,0.00012185174580371234,0.003625302367185937,0.00012185174580371234,0.00012185174580371234,0.008029522112462625,0.008357728372649812],[0.172014206544484,0.7895921903781511,0.0006163041297184179,0.0006163041297184179,0.0015776778045540596,0.0006163041297184179,0.0006163041297184179,0.021512140509517965,0.0006163041297184179,0.0006163041297184179,0.0006163041297184179,0.0006163041297184179,0.0006163041297184179,0.0006163041297184179,0.003963805347908197,0.0006163041297184179,0.0006163041297184179,0.002150855938455749,0.0017934739203077055],[0.06119895728266901,0.06521141704029965,0.04661237037239367,0.04661237037239367,0.06270840936395312,0.04661237037239367,0.04661237037239367,0.06437806453168467,0.04661237037239367,0.04661237037239367,0.04661237037239367,0.04661237037239367,0.04661237037239367,0.04661237037239367,0.06253778661067716,0.04661237037239367,0.04661237037239367,0.06228653810133597,0.06233038260065649],[0.06119895728266901,0.06521141704029965,0.04661237037239367,0.04661237037239367,0.06270840936395312,0.04661237037239367,0.04661237037239367,0.06437806453168467,0.04661237037239367,0.04661237037239367,0.04661237037239367,0.04661237037239367,0.04661237037239367,0.04661237037239367,0.06253778661067716,0.04661237037239367,0.04661237037239367,0.06228653810133597,0.06233038260065649],[0.08854088988573414,0.3933473140874989,0.000030205883471189533,0.000030205883471189533,0.10125983440425562,0.000030205883471189533,0.000030205883471189533,0.1627607043587361,0.000030205883471189533,0.000030205883471189533,0.000030205883471189533,0.000030205883471189533,0.000030205883471189533,0.000030205883471189533,0.07890663082055598,0.000030205883471189533,0.000030205883471189533,0.08925868855821532,0.08556346728334974],[0.06119895728266901,0.06521141704029965,0.04661237037239367,0.04661237037239367,0.06270840936395312,0.04661237037239367,0.04661237037239367,0.06437806453168467,0.04661237037239367,0.04661237037239367,0.04661237037239367,0.04661237037239367,0.04661237037239367,0.04661237037239367,0.06253778661067716,0.04661237037239367,0.04661237037239367,0.06228653810133597,0.06233038260065649],[0.06119895728266901,0.06521141704029965,0.04661237037239367,0.04661237037239367,0.06270840936395312,0.04661237037239367,0.04661237037239367,0.06437806453168467,0.04661237037239367,0.04661237037239367,0.04661237037239367,0.04661237037239367,0.04661237037239367,0.04661237037239367,0.06253778661067716,0.04661237037239367,0.04661237037239367,0.06228653810133597,0.06233038260065649],[0.03686472688020711,0.20793129570144858,0.0014708953030788873,0.0014708953030788873,0.014278358856000319,0.0014708953030788873,0.0014708953030788873,0.5113418822495922,0.0014708953030788873,0.0014708953030788873,0.0014708953030788873,0.0014708953030788873,0.0014708953030788873,0.0014708953030788873,0.1421780571112092,0.0014708953030788873,0.0014708953030788873,0.035395526292483145,0.034359409272113235],[0.06119895728266901,0.06521141704029965,0.04661237037239367,0.04661237037239367,0.06270840936395312,0.04661237037239367,0.04661237037239367,0.06437806453168467,0.04661237037239367,0.04661237037239367,0.04661237037239367,0.04661237037239367,0.04661237037239367,0.04661237037239367,0.06253778661067716,0.04661237037239367,0.04661237037239367,0.06228653810133597,0.06233038260065649],[0.06119895728266901,0.06521141704029965,0.04661237037239367,0.04661237037239367,0.06270840936395312,0.04661237037239367,0.04661237037239367,0.06437806453168467,0.04661237037239367,0.04661237037239367,0.04661237037239367,0.04661237037239367,0.04661237037239367,0.04661237037239367,0.06253778661067716,0.04661237037239367,0.04661237037239367,0.06228653810133597,0.06233038260065649],[0.06119895728266901,0.06521141704029965,0.04661237037239367,0.04661237037239367,0.06270840936395312,0.04661237037239367,0.04661237037239367,0.06437806453168467,0.04661237037239367,0.04661237037239367,0.04661237037239367,0.04661237037239367,0.04661237037239367,0.04661237037239367,0.06253778661067716,0.04661237037239367,0.04661237037239367,0.06228653810133597,0.06233038260065649],[0.06119895728266901,0.06521141704029965,0.04661237037239367,0.04661237037239367,0.06270840936395312,0.04661237037239367,0.04661237037239367,0.06437806453168467,0.04661237037239367,0.04661237037239367,0.04661237037239367,0.04661237037239367,0.04661237037239367,0.04661237037239367,0.06253778661067716,0.04661237037239367,0.04661237037239367,0.06228653810133597,0.06233038260065649],[0.06119895728266901,0.06521141704029965,0.04661237037239367,0.04661237037239367,0.06270840936395312,0.04661237037239367,0.04661237037239367,0.06437806453168467,0.04661237037239367,0.04661237037239367,0.04661237037239367,0.04661237037239367,0.04661237037239367,0.04661237037239367,0.06253778661067716,0.04661237037239367,0.04661237037239367,0.06228653810133597,0.06233038260065649],[0.06119895728266901,0.06521141704029965,0.04661237037239367,0.04661237037239367,0.06270840936395312,0.04661237037239367,0.04661237037239367,0.06437806453168467,0.04661237037239367,0.04661237037239367,0.04661237037239367,0.04661237037239367,0.04661237037239367,0.04661237037239367,0.06253778661067716,0.04661237037239367,0.04661237037239367,0.06228653810133597,0.06233038260065649],[0.026000134380147935,0.15478833076246476,0.0003309020225355964,0.0003309020225355964,0.017976645070882483,0.0003309020225355964,0.0003309020225355964,0.17118367639294052,0.0003309020225355964,0.0003309020225355964,0.0003309020225355964,0.0003309020225355964,0.0003309020225355964,0.0003309020225355964,0.5937177417962505,0.0003309020225355964,0.0003309020225355964,0.016246994396061858,0.01611565293082494],[0.06119895728266901,0.06521141704029965,0.04661237037239367,0.04661237037239367,0.06270840936395312,0.04661237037239367,0.04661237037239367,0.06437806453168467,0.04661237037239367,0.04661237037239367,0.04661237037239367,0.04661237037239367,0.04661237037239367,0.04661237037239367,0.06253778661067716,0.04661237037239367,0.04661237037239367,0.06228653810133597,0.06233038260065649],[0.06119895728266901,0.06521141704029965,0.04661237037239367,0.04661237037239367,0.06270840936395312,0.04661237037239367,0.04661237037239367,0.06437806453168467,0.04661237037239367,0.04661237037239367,0.04661237037239367,0.04661237037239367,0.04661237037239367,0.04661237037239367,0.06253778661067716,0.04661237037239367,0.04661237037239367,0.06228653810133597,0.06233038260065649],[0.05232172294136182,0.15168858069430347,0.00001290756362393896,0.00001290756362393896,0.029755069148142937,0.00001290756362393896,0.00001290756362393896,0.11573631710298603,0.00001290756362393896,0.00001290756362393896,0.00001290756362393896,0.00001290756362393896,0.00001290756362393896,0.00001290756362393896,0.032260190345827486,0.00001290756362393896,0.00001290756362393896,0.3393536616375261,0.278729567366365],[0.05937337529069418,0.15720669433226134,0.000012035593962921205,0.000012035593962921205,0.029763180157250015,0.000012035593962921205,0.000012035593962921205,0.11458903204759337,0.000012035593962921205,0.000012035593962921205,0.000012035593962921205,0.000012035593962921205,0.000012035593962921205,0.000012035593962921205,0.03468132343508581,0.000012035593962921205,0.000012035593962921205,0.33166827573958063,0.2725736918699798]],\"type\":\"heatmap\",\"xaxis\":\"x\",\"yaxis\":\"y\",\"hovertemplate\":\"x: %{x}<br>y: %{y}<br>color: %{z}<extra></extra>\"}],                        {\"template\":{\"data\":{\"bar\":[{\"error_x\":{\"color\":\"#2a3f5f\"},\"error_y\":{\"color\":\"#2a3f5f\"},\"marker\":{\"line\":{\"color\":\"#E5ECF6\",\"width\":0.5},\"pattern\":{\"fillmode\":\"overlay\",\"size\":10,\"solidity\":0.2}},\"type\":\"bar\"}],\"barpolar\":[{\"marker\":{\"line\":{\"color\":\"#E5ECF6\",\"width\":0.5},\"pattern\":{\"fillmode\":\"overlay\",\"size\":10,\"solidity\":0.2}},\"type\":\"barpolar\"}],\"carpet\":[{\"aaxis\":{\"endlinecolor\":\"#2a3f5f\",\"gridcolor\":\"white\",\"linecolor\":\"white\",\"minorgridcolor\":\"white\",\"startlinecolor\":\"#2a3f5f\"},\"baxis\":{\"endlinecolor\":\"#2a3f5f\",\"gridcolor\":\"white\",\"linecolor\":\"white\",\"minorgridcolor\":\"white\",\"startlinecolor\":\"#2a3f5f\"},\"type\":\"carpet\"}],\"choropleth\":[{\"colorbar\":{\"outlinewidth\":0,\"ticks\":\"\"},\"type\":\"choropleth\"}],\"contour\":[{\"colorbar\":{\"outlinewidth\":0,\"ticks\":\"\"},\"colorscale\":[[0.0,\"#0d0887\"],[0.1111111111111111,\"#46039f\"],[0.2222222222222222,\"#7201a8\"],[0.3333333333333333,\"#9c179e\"],[0.4444444444444444,\"#bd3786\"],[0.5555555555555556,\"#d8576b\"],[0.6666666666666666,\"#ed7953\"],[0.7777777777777778,\"#fb9f3a\"],[0.8888888888888888,\"#fdca26\"],[1.0,\"#f0f921\"]],\"type\":\"contour\"}],\"contourcarpet\":[{\"colorbar\":{\"outlinewidth\":0,\"ticks\":\"\"},\"type\":\"contourcarpet\"}],\"heatmap\":[{\"colorbar\":{\"outlinewidth\":0,\"ticks\":\"\"},\"colorscale\":[[0.0,\"#0d0887\"],[0.1111111111111111,\"#46039f\"],[0.2222222222222222,\"#7201a8\"],[0.3333333333333333,\"#9c179e\"],[0.4444444444444444,\"#bd3786\"],[0.5555555555555556,\"#d8576b\"],[0.6666666666666666,\"#ed7953\"],[0.7777777777777778,\"#fb9f3a\"],[0.8888888888888888,\"#fdca26\"],[1.0,\"#f0f921\"]],\"type\":\"heatmap\"}],\"heatmapgl\":[{\"colorbar\":{\"outlinewidth\":0,\"ticks\":\"\"},\"colorscale\":[[0.0,\"#0d0887\"],[0.1111111111111111,\"#46039f\"],[0.2222222222222222,\"#7201a8\"],[0.3333333333333333,\"#9c179e\"],[0.4444444444444444,\"#bd3786\"],[0.5555555555555556,\"#d8576b\"],[0.6666666666666666,\"#ed7953\"],[0.7777777777777778,\"#fb9f3a\"],[0.8888888888888888,\"#fdca26\"],[1.0,\"#f0f921\"]],\"type\":\"heatmapgl\"}],\"histogram\":[{\"marker\":{\"pattern\":{\"fillmode\":\"overlay\",\"size\":10,\"solidity\":0.2}},\"type\":\"histogram\"}],\"histogram2d\":[{\"colorbar\":{\"outlinewidth\":0,\"ticks\":\"\"},\"colorscale\":[[0.0,\"#0d0887\"],[0.1111111111111111,\"#46039f\"],[0.2222222222222222,\"#7201a8\"],[0.3333333333333333,\"#9c179e\"],[0.4444444444444444,\"#bd3786\"],[0.5555555555555556,\"#d8576b\"],[0.6666666666666666,\"#ed7953\"],[0.7777777777777778,\"#fb9f3a\"],[0.8888888888888888,\"#fdca26\"],[1.0,\"#f0f921\"]],\"type\":\"histogram2d\"}],\"histogram2dcontour\":[{\"colorbar\":{\"outlinewidth\":0,\"ticks\":\"\"},\"colorscale\":[[0.0,\"#0d0887\"],[0.1111111111111111,\"#46039f\"],[0.2222222222222222,\"#7201a8\"],[0.3333333333333333,\"#9c179e\"],[0.4444444444444444,\"#bd3786\"],[0.5555555555555556,\"#d8576b\"],[0.6666666666666666,\"#ed7953\"],[0.7777777777777778,\"#fb9f3a\"],[0.8888888888888888,\"#fdca26\"],[1.0,\"#f0f921\"]],\"type\":\"histogram2dcontour\"}],\"mesh3d\":[{\"colorbar\":{\"outlinewidth\":0,\"ticks\":\"\"},\"type\":\"mesh3d\"}],\"parcoords\":[{\"line\":{\"colorbar\":{\"outlinewidth\":0,\"ticks\":\"\"}},\"type\":\"parcoords\"}],\"pie\":[{\"automargin\":true,\"type\":\"pie\"}],\"scatter\":[{\"marker\":{\"colorbar\":{\"outlinewidth\":0,\"ticks\":\"\"}},\"type\":\"scatter\"}],\"scatter3d\":[{\"line\":{\"colorbar\":{\"outlinewidth\":0,\"ticks\":\"\"}},\"marker\":{\"colorbar\":{\"outlinewidth\":0,\"ticks\":\"\"}},\"type\":\"scatter3d\"}],\"scattercarpet\":[{\"marker\":{\"colorbar\":{\"outlinewidth\":0,\"ticks\":\"\"}},\"type\":\"scattercarpet\"}],\"scattergeo\":[{\"marker\":{\"colorbar\":{\"outlinewidth\":0,\"ticks\":\"\"}},\"type\":\"scattergeo\"}],\"scattergl\":[{\"marker\":{\"colorbar\":{\"outlinewidth\":0,\"ticks\":\"\"}},\"type\":\"scattergl\"}],\"scattermapbox\":[{\"marker\":{\"colorbar\":{\"outlinewidth\":0,\"ticks\":\"\"}},\"type\":\"scattermapbox\"}],\"scatterpolar\":[{\"marker\":{\"colorbar\":{\"outlinewidth\":0,\"ticks\":\"\"}},\"type\":\"scatterpolar\"}],\"scatterpolargl\":[{\"marker\":{\"colorbar\":{\"outlinewidth\":0,\"ticks\":\"\"}},\"type\":\"scatterpolargl\"}],\"scatterternary\":[{\"marker\":{\"colorbar\":{\"outlinewidth\":0,\"ticks\":\"\"}},\"type\":\"scatterternary\"}],\"surface\":[{\"colorbar\":{\"outlinewidth\":0,\"ticks\":\"\"},\"colorscale\":[[0.0,\"#0d0887\"],[0.1111111111111111,\"#46039f\"],[0.2222222222222222,\"#7201a8\"],[0.3333333333333333,\"#9c179e\"],[0.4444444444444444,\"#bd3786\"],[0.5555555555555556,\"#d8576b\"],[0.6666666666666666,\"#ed7953\"],[0.7777777777777778,\"#fb9f3a\"],[0.8888888888888888,\"#fdca26\"],[1.0,\"#f0f921\"]],\"type\":\"surface\"}],\"table\":[{\"cells\":{\"fill\":{\"color\":\"#EBF0F8\"},\"line\":{\"color\":\"white\"}},\"header\":{\"fill\":{\"color\":\"#C8D4E3\"},\"line\":{\"color\":\"white\"}},\"type\":\"table\"}]},\"layout\":{\"annotationdefaults\":{\"arrowcolor\":\"#2a3f5f\",\"arrowhead\":0,\"arrowwidth\":1},\"autotypenumbers\":\"strict\",\"coloraxis\":{\"colorbar\":{\"outlinewidth\":0,\"ticks\":\"\"}},\"colorscale\":{\"diverging\":[[0,\"#8e0152\"],[0.1,\"#c51b7d\"],[0.2,\"#de77ae\"],[0.3,\"#f1b6da\"],[0.4,\"#fde0ef\"],[0.5,\"#f7f7f7\"],[0.6,\"#e6f5d0\"],[0.7,\"#b8e186\"],[0.8,\"#7fbc41\"],[0.9,\"#4d9221\"],[1,\"#276419\"]],\"sequential\":[[0.0,\"#0d0887\"],[0.1111111111111111,\"#46039f\"],[0.2222222222222222,\"#7201a8\"],[0.3333333333333333,\"#9c179e\"],[0.4444444444444444,\"#bd3786\"],[0.5555555555555556,\"#d8576b\"],[0.6666666666666666,\"#ed7953\"],[0.7777777777777778,\"#fb9f3a\"],[0.8888888888888888,\"#fdca26\"],[1.0,\"#f0f921\"]],\"sequentialminus\":[[0.0,\"#0d0887\"],[0.1111111111111111,\"#46039f\"],[0.2222222222222222,\"#7201a8\"],[0.3333333333333333,\"#9c179e\"],[0.4444444444444444,\"#bd3786\"],[0.5555555555555556,\"#d8576b\"],[0.6666666666666666,\"#ed7953\"],[0.7777777777777778,\"#fb9f3a\"],[0.8888888888888888,\"#fdca26\"],[1.0,\"#f0f921\"]]},\"colorway\":[\"#636efa\",\"#EF553B\",\"#00cc96\",\"#ab63fa\",\"#FFA15A\",\"#19d3f3\",\"#FF6692\",\"#B6E880\",\"#FF97FF\",\"#FECB52\"],\"font\":{\"color\":\"#2a3f5f\"},\"geo\":{\"bgcolor\":\"white\",\"lakecolor\":\"white\",\"landcolor\":\"#E5ECF6\",\"showlakes\":true,\"showland\":true,\"subunitcolor\":\"white\"},\"hoverlabel\":{\"align\":\"left\"},\"hovermode\":\"closest\",\"mapbox\":{\"style\":\"light\"},\"paper_bgcolor\":\"white\",\"plot_bgcolor\":\"#E5ECF6\",\"polar\":{\"angularaxis\":{\"gridcolor\":\"white\",\"linecolor\":\"white\",\"ticks\":\"\"},\"bgcolor\":\"#E5ECF6\",\"radialaxis\":{\"gridcolor\":\"white\",\"linecolor\":\"white\",\"ticks\":\"\"}},\"scene\":{\"xaxis\":{\"backgroundcolor\":\"#E5ECF6\",\"gridcolor\":\"white\",\"gridwidth\":2,\"linecolor\":\"white\",\"showbackground\":true,\"ticks\":\"\",\"zerolinecolor\":\"white\"},\"yaxis\":{\"backgroundcolor\":\"#E5ECF6\",\"gridcolor\":\"white\",\"gridwidth\":2,\"linecolor\":\"white\",\"showbackground\":true,\"ticks\":\"\",\"zerolinecolor\":\"white\"},\"zaxis\":{\"backgroundcolor\":\"#E5ECF6\",\"gridcolor\":\"white\",\"gridwidth\":2,\"linecolor\":\"white\",\"showbackground\":true,\"ticks\":\"\",\"zerolinecolor\":\"white\"}},\"shapedefaults\":{\"line\":{\"color\":\"#2a3f5f\"}},\"ternary\":{\"aaxis\":{\"gridcolor\":\"white\",\"linecolor\":\"white\",\"ticks\":\"\"},\"baxis\":{\"gridcolor\":\"white\",\"linecolor\":\"white\",\"ticks\":\"\"},\"bgcolor\":\"#E5ECF6\",\"caxis\":{\"gridcolor\":\"white\",\"linecolor\":\"white\",\"ticks\":\"\"}},\"title\":{\"x\":0.05},\"xaxis\":{\"automargin\":true,\"gridcolor\":\"white\",\"linecolor\":\"white\",\"ticks\":\"\",\"title\":{\"standoff\":15},\"zerolinecolor\":\"white\",\"zerolinewidth\":2},\"yaxis\":{\"automargin\":true,\"gridcolor\":\"white\",\"linecolor\":\"white\",\"ticks\":\"\",\"title\":{\"standoff\":15},\"zerolinecolor\":\"white\",\"zerolinewidth\":2}}},\"xaxis\":{\"anchor\":\"y\",\"domain\":[0.0,1.0],\"scaleanchor\":\"y\",\"constrain\":\"domain\"},\"yaxis\":{\"anchor\":\"x\",\"domain\":[0.0,1.0],\"autorange\":\"reversed\",\"constrain\":\"domain\"},\"coloraxis\":{\"colorscale\":[[0.0,\"#0d0887\"],[0.1111111111111111,\"#46039f\"],[0.2222222222222222,\"#7201a8\"],[0.3333333333333333,\"#9c179e\"],[0.4444444444444444,\"#bd3786\"],[0.5555555555555556,\"#d8576b\"],[0.6666666666666666,\"#ed7953\"],[0.7777777777777778,\"#fb9f3a\"],[0.8888888888888888,\"#fdca26\"],[1.0,\"#f0f921\"]]},\"margin\":{\"t\":60},\"height\":800,\"width\":800},                        {\"responsive\": true}                    ).then(function(){\n",
       "                            \n",
       "var gd = document.getElementById('b093f9f5-ed40-4804-9c69-d5f945750e86');\n",
       "var x = new MutationObserver(function (mutations, observer) {{\n",
       "        var display = window.getComputedStyle(gd).display;\n",
       "        if (!display || display === 'none') {{\n",
       "            console.log([gd, 'removed!']);\n",
       "            Plotly.purge(gd);\n",
       "            observer.disconnect();\n",
       "        }}\n",
       "}});\n",
       "\n",
       "// Listen for the removal of the full notebook cells\n",
       "var notebookContainer = gd.closest('#notebook-container');\n",
       "if (notebookContainer) {{\n",
       "    x.observe(notebookContainer, {childList: true});\n",
       "}}\n",
       "\n",
       "// Listen for the clearing of the current output cell\n",
       "var outputEl = gd.closest('.output');\n",
       "if (outputEl) {{\n",
       "    x.observe(outputEl, {childList: true});\n",
       "}}\n",
       "\n",
       "                        })                };                });            </script>        </div>"
      ]
     },
     "metadata": {},
     "output_type": "display_data"
    }
   ],
   "source": [
    "plot_attention_weights(A)"
   ]
  },
  {
   "cell_type": "markdown",
   "id": "aa0f984d",
   "metadata": {},
   "source": [
    "In the heatmap, there are some facts I could conclude.\n",
    "1. The color isn't symmetric in our plot which means our attention matrix is not symmetric.\n",
    "2. The heatmp swap the order of words in the sentence.\n",
    "3. this is not a 1-1 relationship but a 1 to many, meaning that an output word is affected by more than one input word (each one with different importance), meaning that an output word is affected by more than one input word.\n",
    "\n",
    "Why not symmetric?  \n",
    "Because when we compute a set of context vectors, the formula $$\\textbf{c}^{(t)} = \\sum_{t'=1}^{T} \\alpha_{t,t'} \\; \\textbf{u}^{(t)} \\quad$$ results the symmetric and we use the normalize calculating, the process also results the unsymmetric."
   ]
  }
 ],
 "metadata": {
  "kernelspec": {
   "display_name": "Python [conda env:tf_m1] *",
   "language": "python",
   "name": "conda-env-tf_m1-py"
  },
  "language_info": {
   "codemirror_mode": {
    "name": "ipython",
    "version": 3
   },
   "file_extension": ".py",
   "mimetype": "text/x-python",
   "name": "python",
   "nbconvert_exporter": "python",
   "pygments_lexer": "ipython3",
   "version": "3.8.11"
  }
 },
 "nbformat": 4,
 "nbformat_minor": 5
}

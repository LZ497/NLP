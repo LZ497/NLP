{
 "cells": [
  {
   "cell_type": "markdown",
   "id": "a0723148-1b4a-4e86-a60d-f7579a11718a",
   "metadata": {},
   "source": [
    "# Lab 01: Setup computing environment"
   ]
  },
  {
   "cell_type": "markdown",
   "id": "fba952d1-533c-48d6-8ce5-4897c46d3f1f",
   "metadata": {},
   "source": [
    "### (10 pts) Task 1: Run this block of code to ensure that your dependencies are installed"
   ]
  },
  {
   "cell_type": "code",
   "execution_count": 1,
   "id": "533a1f9e-e784-4a52-89e3-cbe31657662a",
   "metadata": {},
   "outputs": [],
   "source": [
    "import numpy as np\n",
    "import tensorflow\n",
    "import torch"
   ]
  },
  {
   "cell_type": "markdown",
   "id": "a44a53aa-1b0a-45ab-83b0-1f18c1504d98",
   "metadata": {},
   "source": [
    "### (10 pts) Task 2: Complete the function `linear_transformation()` by implementing a matrix multiplication between the data matrix, `X` of size `M x N`, and the tensor, `W` of size `N x N` (an identity matrix)."
   ]
  },
  {
   "cell_type": "code",
   "execution_count": 2,
   "id": "a67a694b-7b5c-4f86-a7cb-63b7794d820b",
   "metadata": {},
   "outputs": [],
   "source": [
    "def linear_transformation(X, W):\n",
    "    \"\"\"\n",
    "    Parameters\n",
    "    ----------\n",
    "    X: np.array (M x N)\n",
    "        Data matrix\n",
    "    W: np.array(N x N)\n",
    "        Linear transformation\n",
    "    Returns\n",
    "    -------\n",
    "    X_prime: np.array (M x N)\n",
    "    \"\"\"\n",
    "    return (np.dot(X,W))\n",
    "    pass"
   ]
  },
  {
   "cell_type": "code",
   "execution_count": 3,
   "id": "8917b5dc-5306-477e-ba31-680f3c54386f",
   "metadata": {},
   "outputs": [],
   "source": [
    "W = np.identity(10)\n",
    "X = np.random.random((300, 10))"
   ]
  },
  {
   "cell_type": "code",
   "execution_count": 4,
   "id": "fb6516c3-1c2b-487c-b8c6-2def318c7d49",
   "metadata": {},
   "outputs": [
    {
     "name": "stdout",
     "output_type": "stream",
     "text": [
      "[[0.01246363 0.97540493 0.4195688  ... 0.10409968 0.08635803 0.01337821]\n",
      " [0.92388748 0.64677916 0.76620136 ... 0.31950858 0.52164367 0.87655868]\n",
      " [0.67305265 0.84023    0.34998356 ... 0.82944544 0.90201357 0.57208744]\n",
      " ...\n",
      " [0.83897925 0.28528432 0.8288042  ... 0.28507032 0.39034505 0.35050899]\n",
      " [0.54861905 0.00287193 0.60885324 ... 0.67720253 0.2205866  0.2362753 ]\n",
      " [0.9707369  0.02173896 0.44219371 ... 0.22564789 0.01424309 0.12107482]]\n"
     ]
    }
   ],
   "source": [
    "X_tx = linear_transformation(X, W)\n",
    "assert (X_tx == X).all()\n",
    "print(X_tx)"
   ]
  }
 ],
 "metadata": {
  "kernelspec": {
   "display_name": "Python [conda env:tf_m1] *",
   "language": "python",
   "name": "conda-env-tf_m1-py"
  },
  "language_info": {
   "codemirror_mode": {
    "name": "ipython",
    "version": 3
   },
   "file_extension": ".py",
   "mimetype": "text/x-python",
   "name": "python",
   "nbconvert_exporter": "python",
   "pygments_lexer": "ipython3",
   "version": "3.8.10"
  }
 },
 "nbformat": 4,
 "nbformat_minor": 5
}

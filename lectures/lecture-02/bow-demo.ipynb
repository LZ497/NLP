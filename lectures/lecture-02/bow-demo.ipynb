{
 "cells": [
  {
   "cell_type": "code",
   "execution_count": null,
   "id": "c93f6147",
   "metadata": {},
   "outputs": [],
   "source": [
    "import requests\n",
    "\n",
    "url = \"https://en.wikipedia.org/wiki/Natural_language_processing\"\n",
    "resp = requests.get(url)\n",
    "text = resp.text.lower()"
   ]
  },
  {
   "cell_type": "code",
   "execution_count": null,
   "id": "23ce02cf",
   "metadata": {},
   "outputs": [],
   "source": [
    "import re\n",
    "\n",
    "patterns = [r'\\|', r'\\.', r'\\,', r'\\*', r'\\-', r'\\:', r'\\#', r'\\n', r'\\t', r'<[^>]+>', r'\"', r'\\'', r'\\[', r'\\]', r'\\{', r'\\}', r'\\!', r'\\s+']\n",
    "repl = ' '\n",
    "for p in patterns:\n",
    "    text = re.sub(p, repl, text).strip()"
   ]
  },
  {
   "cell_type": "code",
   "execution_count": null,
   "id": "ab252432",
   "metadata": {},
   "outputs": [],
   "source": [
    "from collections import Counter\n",
    "\n",
    "list_of_words = text.split(' ')\n",
    "word_hist = Counter(list_of_words)\n",
    "word_counts = word_hist.most_common()"
   ]
  },
  {
   "cell_type": "code",
   "execution_count": null,
   "id": "682bb1d1",
   "metadata": {},
   "outputs": [],
   "source": [
    "# Compute BOW feature on test sentence\n",
    "import numpy as np\n",
    "\n",
    "text = \"natural language processing with neural networks\"\n",
    "\n",
    "bow_featurizer = {word: idx for idx, word in enumerate(word_hist)}\n",
    "feature = np.zeros(shape=(len(bow_featurizer)))\n",
    "for word in text.split(\" \"):\n",
    "    feature[bow_featurizer[word]] += 1"
   ]
  }
 ],
 "metadata": {
  "interpreter": {
   "hash": "f986a2461f5786d3cd1b7b30856ec5b277970b9a8cbc7da222a05b7f2c0b8370"
  },
  "kernelspec": {
   "display_name": "Python 3 (ipykernel)",
   "language": "python",
   "name": "python3"
  },
  "language_info": {
   "codemirror_mode": {
    "name": "ipython",
    "version": 3
   },
   "file_extension": ".py",
   "mimetype": "text/x-python",
   "name": "python",
   "nbconvert_exporter": "python",
   "pygments_lexer": "ipython3",
   "version": "3.7.9"
  }
 },
 "nbformat": 4,
 "nbformat_minor": 5
}
